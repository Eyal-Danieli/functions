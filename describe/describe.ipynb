{
 "cells": [
  {
   "cell_type": "markdown",
   "metadata": {},
   "source": [
    "# Describe"
   ]
  },
  {
   "cell_type": "markdown",
   "metadata": {},
   "source": [
    "Describe and visualizes dataset statistics"
   ]
  },
  {
   "cell_type": "markdown",
   "metadata": {},
   "source": [
    "### Set-up"
   ]
  },
  {
   "cell_type": "code",
   "execution_count": 4,
   "metadata": {},
   "outputs": [],
   "source": [
    "from sklearn.datasets import load_boston\n",
    "import pandas as pd\n",
    "import matplotlib.pyplot as plt\n",
    "import mlrun\n",
    "import os\n",
    "\n",
    "from sklearn.datasets import make_classification\n",
    "\n",
    "# import sys\n",
    "# !conda install --yes --prefix {sys.prefix} plotly\n",
    "# !conda install --yes --prefix {sys.prefix} plotly-express\n",
    "# !pip install plotly-express==0.4.1"
   ]
  },
  {
   "cell_type": "code",
   "execution_count": null,
   "outputs": [],
   "source": [
    "# Set our project's name:\n",
    "project_name = \"new-describe-test\"\n",
    "\n",
    "# Create the project:\n",
    "project = mlrun.get_or_create_project(name=project_name, context=\"./\", user_project=True)"
   ],
   "metadata": {
    "collapsed": false,
    "pycharm": {
     "name": "#%%\n"
    }
   }
  },
  {
   "cell_type": "markdown",
   "metadata": {},
   "source": [
    "### Loading dataset\n",
    "We will use make_classification to generate random dataset"
   ]
  },
  {
   "cell_type": "code",
   "execution_count": 3,
   "metadata": {},
   "outputs": [],
   "source": [
    "n_features=5\n",
    "\n",
    "X, y = make_classification(n_samples=100, n_features=n_features, n_classes=3, random_state = 18,\n",
    "                                     class_sep=2, n_informative=3)\n",
    "\n",
    "df = pd.DataFrame(X, columns=[f\"feature_{i}\" for i in range(n_features)])\n",
    "df['label'] = y\n",
    "try:\n",
    "    os.mkdir('artifacts')\n",
    "except:\n",
    "    pass\n",
    "\n",
    "df.to_parquet(\"artifacts/random_dataset.parquet\")"
   ]
  },
  {
   "cell_type": "markdown",
   "metadata": {},
   "source": [
    "### Importing and running the function"
   ]
  },
  {
   "cell_type": "code",
   "execution_count": 6,
   "metadata": {},
   "outputs": [],
   "source": [
    "describe_func = mlrun.import_function(\"hub://describe\")\n",
    "describe_func.apply(mlrun.platforms.auto_mount())"
   ]
  },
  {
   "cell_type": "code",
   "execution_count": 7,
   "metadata": {},
   "outputs": [],
   "source": [
    "describe_run = describe_func.run(\n",
    "            name=\"task-describe\",\n",
    "            handler='summarize',\n",
    "            inputs={\"table\": os.path.abspath(\"artifacts/random_dataset.parquet\")},\n",
    "            params={\"update_dataset\": True, \"label_column\": \"label\"},\n",
    "            local=True\n",
    "        )"
   ]
  },
  {
   "cell_type": "markdown",
   "metadata": {
    "pycharm": {
     "name": "#%% md\n"
    }
   },
   "source": [
    "To see the artifacts click on the run uid and go -> artifacts"
   ]
  }
 ],
 "metadata": {
  "kernelspec": {
   "display_name": "Python 3",
   "language": "python",
   "name": "python3"
  },
  "language_info": {
   "codemirror_mode": {
    "name": "ipython",
    "version": 3
   },
   "file_extension": ".py",
   "mimetype": "text/x-python",
   "name": "python",
   "nbconvert_exporter": "python",
   "pygments_lexer": "ipython3",
   "version": "3.7.6"
  }
 },
 "nbformat": 4,
 "nbformat_minor": 4
}