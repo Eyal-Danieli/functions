{
 "cells": [
  {
   "cell_type": "markdown",
   "metadata": {},
   "source": [
    "## **Aggregate time-series dataframe**\n",
    "\n",
    "performs a rolling aggregation on `df_artifact`, over `window` by the selected `keys`\n",
    "applying `metric_aggs` on `metrics` and `label_aggs` on `labels`.<br> \n",
    "adding `suffix` to the \n",
    "feature names.\n",
    "    \n",
    "    "
   ]
  },
  {
   "cell_type": "markdown",
   "metadata": {},
   "source": [
    "### **Steps**\n",
    "\n",
    "1. [Data exploration](#Data-exploration)\n",
    "2. [Importing the function](#Importing-the-function)\n",
    "3. [Running the function locally](#Running-the-function-locally)\n",
    "4. [Running the function remotely](#Running-the-function-remotely)"
   ]
  },
  {
   "cell_type": "markdown",
   "metadata": {},
   "source": [
    "### **Data exploration**"
   ]
  },
  {
   "cell_type": "markdown",
   "metadata": {},
   "source": [
    "This is the dataset [Occupancy Detection Data Set, UCI](http://archive.ics.uci.edu/ml/datasets/Occupancy+Detection+)\n",
    "as used in the article [how-to-predict-room-occupancy-based-on-environmental-factors](https://machinelearningmastery.com/how-to-predict-room-occupancy-based-on-environmental-factors/).<br>\n",
    "\n",
    "> **Attribute Information:**<br>\n",
    "    `date` - time year-month-day hour:minute:second<br>\n",
    "    `Temperature` - in Celsius<br>\n",
    "     Relative `Humidity` - %<br>\n",
    "    `Light` - in Lux<br>\n",
    "    `CO2` - in ppm<br>\n",
    "    `Humidity Ratio` - Derived quantity from temperature and relative humidity, in kgwater-vapor/kg-air<br>\n",
    "    `Occupancy` - 0 or 1, 0 for not occupied, 1 for occupied status"
   ]
  },
  {
   "cell_type": "code",
   "execution_count": 1,
   "outputs": [],
   "source": [
    "from mlrun import set_env_from_file\n",
    "import os.path\n",
    "\n",
    "env_file = \"env_file.env\"\n",
    "if os.path.isfile(env_file):\n",
    "    set_env_from_file(env_file)"
   ],
   "metadata": {
    "collapsed": false,
    "pycharm": {
     "name": "#%%\n"
    }
   }
  },
  {
   "cell_type": "code",
   "execution_count": 2,
   "outputs": [
    {
     "name": "stdout",
     "output_type": "stream",
     "text": [
      "> 2022-09-28 15:53:25,646 [info] loaded project function-aggregate-example from MLRun DB\n",
      "Full project name: function-aggregate-example-avia\n"
     ]
    }
   ],
   "source": [
    "from os import path\n",
    "import mlrun\n",
    "\n",
    "# Set the base project name\n",
    "project_name_base = 'function-aggregate-example'\n",
    "\n",
    "# Initialize the MLRun project object\n",
    "project = mlrun.get_or_create_project(project_name_base, context=\"./\", user_project=True)\n",
    "\n",
    "# Display the current project name\n",
    "project_name = project.metadata.name\n",
    "print(f'Full project name: {project_name}')"
   ],
   "metadata": {
    "collapsed": false,
    "pycharm": {
     "name": "#%%\n"
    }
   }
  },
  {
   "cell_type": "code",
   "execution_count": 3,
   "metadata": {},
   "outputs": [
    {
     "data": {
      "text/plain": "                                    date  Temperature  Humidity  Light  \\\ndate                                                                     \n2015-02-04 17:51:00  2015-02-04 17:51:00        23.18   27.2720  426.0   \n2015-02-04 17:51:59  2015-02-04 17:51:59        23.15   27.2675  429.5   \n2015-02-04 17:53:00  2015-02-04 17:53:00        23.15   27.2450  426.0   \n2015-02-04 17:54:00  2015-02-04 17:54:00        23.15   27.2000  426.0   \n2015-02-04 17:55:00  2015-02-04 17:55:00        23.10   27.2000  426.0   \n\n                        CO2  HumidityRatio  Occupancy  \ndate                                                   \n2015-02-04 17:51:00  721.25       0.004793          1  \n2015-02-04 17:51:59  714.00       0.004783          1  \n2015-02-04 17:53:00  713.50       0.004779          1  \n2015-02-04 17:54:00  708.25       0.004772          1  \n2015-02-04 17:55:00  704.50       0.004757          1  ",
      "text/html": "<div>\n<style scoped>\n    .dataframe tbody tr th:only-of-type {\n        vertical-align: middle;\n    }\n\n    .dataframe tbody tr th {\n        vertical-align: top;\n    }\n\n    .dataframe thead th {\n        text-align: right;\n    }\n</style>\n<table border=\"1\" class=\"dataframe\">\n  <thead>\n    <tr style=\"text-align: right;\">\n      <th></th>\n      <th>date</th>\n      <th>Temperature</th>\n      <th>Humidity</th>\n      <th>Light</th>\n      <th>CO2</th>\n      <th>HumidityRatio</th>\n      <th>Occupancy</th>\n    </tr>\n    <tr>\n      <th>date</th>\n      <th></th>\n      <th></th>\n      <th></th>\n      <th></th>\n      <th></th>\n      <th></th>\n      <th></th>\n    </tr>\n  </thead>\n  <tbody>\n    <tr>\n      <th>2015-02-04 17:51:00</th>\n      <td>2015-02-04 17:51:00</td>\n      <td>23.18</td>\n      <td>27.2720</td>\n      <td>426.0</td>\n      <td>721.25</td>\n      <td>0.004793</td>\n      <td>1</td>\n    </tr>\n    <tr>\n      <th>2015-02-04 17:51:59</th>\n      <td>2015-02-04 17:51:59</td>\n      <td>23.15</td>\n      <td>27.2675</td>\n      <td>429.5</td>\n      <td>714.00</td>\n      <td>0.004783</td>\n      <td>1</td>\n    </tr>\n    <tr>\n      <th>2015-02-04 17:53:00</th>\n      <td>2015-02-04 17:53:00</td>\n      <td>23.15</td>\n      <td>27.2450</td>\n      <td>426.0</td>\n      <td>713.50</td>\n      <td>0.004779</td>\n      <td>1</td>\n    </tr>\n    <tr>\n      <th>2015-02-04 17:54:00</th>\n      <td>2015-02-04 17:54:00</td>\n      <td>23.15</td>\n      <td>27.2000</td>\n      <td>426.0</td>\n      <td>708.25</td>\n      <td>0.004772</td>\n      <td>1</td>\n    </tr>\n    <tr>\n      <th>2015-02-04 17:55:00</th>\n      <td>2015-02-04 17:55:00</td>\n      <td>23.10</td>\n      <td>27.2000</td>\n      <td>426.0</td>\n      <td>704.50</td>\n      <td>0.004757</td>\n      <td>1</td>\n    </tr>\n  </tbody>\n</table>\n</div>"
     },
     "execution_count": 3,
     "metadata": {},
     "output_type": "execute_result"
    }
   ],
   "source": [
    "import pandas as pd\n",
    "\n",
    "data_path = 'https://s3.wasabisys.com/iguazio/data/function-marketplace-data/aggregate/train_room_occupancy.csv'\n",
    "df = pd.read_csv(data_path).set_index('date',drop=False)\n",
    "df.head()"
   ]
  },
  {
   "cell_type": "markdown",
   "metadata": {},
   "source": [
    "### **Importing the function**"
   ]
  },
  {
   "cell_type": "code",
   "execution_count": 4,
   "metadata": {},
   "outputs": [
    {
     "data": {
      "text/plain": "<mlrun.runtimes.kubejob.KubejobRuntime at 0x12ee62e20>"
     },
     "execution_count": 4,
     "metadata": {},
     "output_type": "execute_result"
    }
   ],
   "source": [
    "fn = mlrun.import_function(\"hub://aggregate\")\n",
    "fn.apply(mlrun.auto_mount())"
   ]
  },
  {
   "cell_type": "code",
   "execution_count": 5,
   "metadata": {},
   "outputs": [],
   "source": [
    "import numpy as np\n",
    "\n",
    "# Declaring a custom aggregation function\n",
    "def dist_from_mean(l):\n",
    "    mean = np.mean(l)\n",
    "    return abs(list(l)[3] - mean)"
   ]
  },
  {
   "cell_type": "markdown",
   "metadata": {},
   "source": [
    "### **Running the function locally**"
   ]
  },
  {
   "cell_type": "code",
   "execution_count": 6,
   "metadata": {},
   "outputs": [
    {
     "name": "stdout",
     "output_type": "stream",
     "text": [
      "> 2022-09-28 15:53:28,353 [info] starting run aggregate uid=922bc0ffe9db4812a216a8a636502300 DB=https://mlrun-api.default-tenant.app.app-lab-v3-5-1.iguazio-cd2.com\n",
      "> 2022-09-28 15:53:28,918 [info] Aggregating https://s3.wasabisys.com/iguazio/data/function-marketplace-data/aggregate/train_room_occupancy.csv\n",
      "> 2022-09-28 15:53:31,991 [info] Logging artifact\n"
     ]
    },
    {
     "data": {
      "text/plain": "<IPython.core.display.HTML object>",
      "text/html": "<style>\n.dictlist {\n  background-color: #4EC64B;\n  text-align: center;\n  margin: 4px;\n  border-radius: 3px; padding: 0px 3px 1px 3px; display: inline-block;}\n.artifact {\n  cursor: pointer;\n  background-color: #4EC64B;\n  text-align: left;\n  margin: 4px; border-radius: 3px; padding: 0px 3px 1px 3px; display: inline-block;\n}\ndiv.block.hidden {\n  display: none;\n}\n.clickable {\n  cursor: pointer;\n}\n.ellipsis {\n  display: inline-block;\n  max-width: 60px;\n  white-space: nowrap;\n  overflow: hidden;\n  text-overflow: ellipsis;\n}\n.master-wrapper {\n  display: flex;\n  flex-flow: row nowrap;\n  justify-content: flex-start;\n  align-items: stretch;\n}\n.master-tbl {\n  flex: 3\n}\n.master-wrapper > div {\n  margin: 4px;\n  padding: 10px;\n}\niframe.fileview {\n  border: 0 none;\n  height: 100%;\n  width: 100%;\n  white-space: pre-wrap;\n}\n.pane-header-title {\n  width: 80%;\n  font-weight: 500;\n}\n.pane-header {\n  line-height: 1;\n  background-color: #4EC64B;\n  padding: 3px;\n}\n.pane-header .close {\n  font-size: 20px;\n  font-weight: 700;\n  float: right;\n  margin-top: -5px;\n}\n.master-wrapper .right-pane {\n  border: 1px inset silver;\n  width: 40%;\n  min-height: 300px;\n  flex: 3\n  min-width: 500px;\n}\n.master-wrapper * {\n  box-sizing: border-box;\n}\n</style><script>\nfunction copyToClipboard(fld) {\n    if (document.queryCommandSupported && document.queryCommandSupported('copy')) {\n        var textarea = document.createElement('textarea');\n        textarea.textContent = fld.innerHTML;\n        textarea.style.position = 'fixed';\n        document.body.appendChild(textarea);\n        textarea.select();\n\n        try {\n            return document.execCommand('copy'); // Security exception may be thrown by some browsers.\n        } catch (ex) {\n\n        } finally {\n            document.body.removeChild(textarea);\n        }\n    }\n}\nfunction expandPanel(el) {\n  const panelName = \"#\" + el.getAttribute('paneName');\n  console.log(el.title);\n\n  document.querySelector(panelName + \"-title\").innerHTML = el.title\n  iframe = document.querySelector(panelName + \"-body\");\n\n  const tblcss = `<style> body { font-family: Arial, Helvetica, sans-serif;}\n    #csv { margin-bottom: 15px; }\n    #csv table { border-collapse: collapse;}\n    #csv table td { padding: 4px 8px; border: 1px solid silver;} </style>`;\n\n  function csvToHtmlTable(str) {\n    return '<div id=\"csv\"><table><tr><td>' +  str.replace(/[\\n\\r]+$/g, '').replace(/[\\n\\r]+/g, '</td></tr><tr><td>')\n      .replace(/,/g, '</td><td>') + '</td></tr></table></div>';\n  }\n\n  function reqListener () {\n    if (el.title.endsWith(\".csv\")) {\n      iframe.setAttribute(\"srcdoc\", tblcss + csvToHtmlTable(this.responseText));\n    } else {\n      iframe.setAttribute(\"srcdoc\", this.responseText);\n    }\n    console.log(this.responseText);\n  }\n\n  const oReq = new XMLHttpRequest();\n  oReq.addEventListener(\"load\", reqListener);\n  oReq.open(\"GET\", el.title);\n  oReq.send();\n\n\n  //iframe.src = el.title;\n  const resultPane = document.querySelector(panelName + \"-pane\");\n  if (resultPane.classList.contains(\"hidden\")) {\n    resultPane.classList.remove(\"hidden\");\n  }\n}\nfunction closePanel(el) {\n  const panelName = \"#\" + el.getAttribute('paneName')\n  const resultPane = document.querySelector(panelName + \"-pane\");\n  if (!resultPane.classList.contains(\"hidden\")) {\n    resultPane.classList.add(\"hidden\");\n  }\n}\n\n</script>\n<div class=\"master-wrapper\">\n  <div class=\"block master-tbl\"><div>\n<style scoped>\n    .dataframe tbody tr th:only-of-type {\n        vertical-align: middle;\n    }\n\n    .dataframe tbody tr th {\n        vertical-align: top;\n    }\n\n    .dataframe thead th {\n        text-align: right;\n    }\n</style>\n<table border=\"1\" class=\"dataframe\">\n  <thead>\n    <tr style=\"text-align: right;\">\n      <th>project</th>\n      <th>uid</th>\n      <th>iter</th>\n      <th>start</th>\n      <th>state</th>\n      <th>name</th>\n      <th>labels</th>\n      <th>inputs</th>\n      <th>parameters</th>\n      <th>results</th>\n      <th>artifacts</th>\n    </tr>\n  </thead>\n  <tbody>\n    <tr>\n      <td>function-aggregate-example-avia</td>\n      <td><div title=\"922bc0ffe9db4812a216a8a636502300\"><a href=\"https://dashboard.default-tenant.app.app-lab-v3-5-1.iguazio-cd2.com/mlprojects/function-aggregate-example-avia/jobs/monitor/922bc0ffe9db4812a216a8a636502300/overview\" target=\"_blank\" >...36502300</a></div></td>\n      <td>0</td>\n      <td>Sep 28 12:53:28</td>\n      <td>completed</td>\n      <td>aggregate</td>\n      <td><div class=\"dictlist\">v3io_user=avia</div><div class=\"dictlist\">kind=</div><div class=\"dictlist\">owner=avia</div><div class=\"dictlist\">host=Avis-MBP.iguaz.io</div></td>\n      <td><div title=\"https://s3.wasabisys.com/iguazio/data/function-marketplace-data/aggregate/train_room_occupancy.csv\">df_artifact</div></td>\n      <td><div class=\"dictlist\">metrics=['Temperature', 'Humidity']</div><div class=\"dictlist\">labels=['Occupancy']</div><div class=\"dictlist\">metric_aggs=['mean', 'std', <function dist_from_mean at 0x12efa63a0>]</div><div class=\"dictlist\">label_aggs=['sum']</div><div class=\"dictlist\">window=5</div><div class=\"dictlist\">center=True</div></td>\n      <td></td>\n      <td><div title=\"v3io:///projects/function-aggregate-example-avia/artifacts/aggregate/0/aggregate.pq\">aggregate</div></td>\n    </tr>\n  </tbody>\n</table>\n</div></div>\n  <div id=\"resultb9af2649-pane\" class=\"right-pane block hidden\">\n    <div class=\"pane-header\">\n      <span id=\"resultb9af2649-title\" class=\"pane-header-title\">Title</span>\n      <span onclick=\"closePanel(this)\" paneName=\"resultb9af2649\" class=\"close clickable\">&times;</span>\n    </div>\n    <iframe class=\"fileview\" id=\"resultb9af2649-body\"></iframe>\n  </div>\n</div>\n"
     },
     "metadata": {},
     "output_type": "display_data"
    },
    {
     "name": "stdout",
     "output_type": "stream",
     "text": [
      "\n"
     ]
    },
    {
     "data": {
      "text/plain": "<IPython.core.display.HTML object>",
      "text/html": "<b> > to track results use the .show() or .logs() methods  or <a href=\"https://dashboard.default-tenant.app.app-lab-v3-5-1.iguazio-cd2.com/mlprojects/function-aggregate-example-avia/jobs/monitor/922bc0ffe9db4812a216a8a636502300/overview\" target=\"_blank\">click here</a> to open in UI</b>"
     },
     "metadata": {},
     "output_type": "display_data"
    },
    {
     "name": "stdout",
     "output_type": "stream",
     "text": [
      "> 2022-09-28 15:53:35,090 [info] run executed, status=completed\n"
     ]
    }
   ],
   "source": [
    "aggregate_run_local = fn.run(name='aggregate',\n",
    "                       params = {'metrics': ['Temperature','Humidity'],\n",
    "                                 'labels': ['Occupancy'],\n",
    "                                 'metric_aggs': ['mean','std',dist_from_mean],\n",
    "                                 'label_aggs': ['sum'],\n",
    "                                 'window': 5,\n",
    "                                 'center': True},\n",
    "                       inputs={'df_artifact': data_path},\n",
    "                       local=True)"
   ]
  },
  {
   "cell_type": "code",
   "execution_count": 7,
   "metadata": {},
   "outputs": [
    {
     "data": {
      "text/plain": "                  date  Temperature  Humidity  Light         CO2  \\\n2  2015-02-04 17:53:00        23.15    27.245  426.0  713.500000   \n3  2015-02-04 17:54:00        23.15    27.200  426.0  708.250000   \n4  2015-02-04 17:55:00        23.10    27.200  426.0  704.500000   \n5  2015-02-04 17:55:59        23.10    27.200  419.0  701.000000   \n6  2015-02-04 17:57:00        23.10    27.200  419.0  701.666667   \n\n   HumidityRatio  Occupancy  Temperature_mean  Humidity_mean  Occupancy_max  \n2       0.004779          1            23.146        27.2369            1.0  \n3       0.004772          1            23.130        27.2225            1.0  \n4       0.004757          1            23.120        27.2090            1.0  \n5       0.004757          1            23.110        27.2000            1.0  \n6       0.004757          1            23.100        27.2000            1.0  ",
      "text/html": "<div>\n<style scoped>\n    .dataframe tbody tr th:only-of-type {\n        vertical-align: middle;\n    }\n\n    .dataframe tbody tr th {\n        vertical-align: top;\n    }\n\n    .dataframe thead th {\n        text-align: right;\n    }\n</style>\n<table border=\"1\" class=\"dataframe\">\n  <thead>\n    <tr style=\"text-align: right;\">\n      <th></th>\n      <th>date</th>\n      <th>Temperature</th>\n      <th>Humidity</th>\n      <th>Light</th>\n      <th>CO2</th>\n      <th>HumidityRatio</th>\n      <th>Occupancy</th>\n      <th>Temperature_mean</th>\n      <th>Humidity_mean</th>\n      <th>Occupancy_max</th>\n    </tr>\n  </thead>\n  <tbody>\n    <tr>\n      <th>2</th>\n      <td>2015-02-04 17:53:00</td>\n      <td>23.15</td>\n      <td>27.245</td>\n      <td>426.0</td>\n      <td>713.500000</td>\n      <td>0.004779</td>\n      <td>1</td>\n      <td>23.146</td>\n      <td>27.2369</td>\n      <td>1.0</td>\n    </tr>\n    <tr>\n      <th>3</th>\n      <td>2015-02-04 17:54:00</td>\n      <td>23.15</td>\n      <td>27.200</td>\n      <td>426.0</td>\n      <td>708.250000</td>\n      <td>0.004772</td>\n      <td>1</td>\n      <td>23.130</td>\n      <td>27.2225</td>\n      <td>1.0</td>\n    </tr>\n    <tr>\n      <th>4</th>\n      <td>2015-02-04 17:55:00</td>\n      <td>23.10</td>\n      <td>27.200</td>\n      <td>426.0</td>\n      <td>704.500000</td>\n      <td>0.004757</td>\n      <td>1</td>\n      <td>23.120</td>\n      <td>27.2090</td>\n      <td>1.0</td>\n    </tr>\n    <tr>\n      <th>5</th>\n      <td>2015-02-04 17:55:59</td>\n      <td>23.10</td>\n      <td>27.200</td>\n      <td>419.0</td>\n      <td>701.000000</td>\n      <td>0.004757</td>\n      <td>1</td>\n      <td>23.110</td>\n      <td>27.2000</td>\n      <td>1.0</td>\n    </tr>\n    <tr>\n      <th>6</th>\n      <td>2015-02-04 17:57:00</td>\n      <td>23.10</td>\n      <td>27.200</td>\n      <td>419.0</td>\n      <td>701.666667</td>\n      <td>0.004757</td>\n      <td>1</td>\n      <td>23.100</td>\n      <td>27.2000</td>\n      <td>1.0</td>\n    </tr>\n  </tbody>\n</table>\n</div>"
     },
     "execution_count": 7,
     "metadata": {},
     "output_type": "execute_result"
    }
   ],
   "source": [
    "aggregate_run_local.artifact('aggregate').as_df().head()"
   ]
  },
  {
   "cell_type": "markdown",
   "metadata": {},
   "source": [
    "### **Running the function remotely**"
   ]
  },
  {
   "cell_type": "code",
   "execution_count": 8,
   "metadata": {},
   "outputs": [
    {
     "name": "stdout",
     "output_type": "stream",
     "text": [
      "> 2022-09-28 15:53:38,517 [info] starting run aggregate uid=6d9b8d4b14a74517a0b3abc842452afb DB=https://mlrun-api.default-tenant.app.app-lab-v3-5-1.iguazio-cd2.com\n",
      "> 2022-09-28 15:53:39,048 [info] Job is running in the background, pod: aggregate-2fvm5\n",
      "> 2022-09-28 12:53:47,367 [info] Aggregating https://s3.wasabisys.com/iguazio/data/function-marketplace-data/aggregate/train_room_occupancy.csv\n",
      "> 2022-09-28 12:53:47,639 [info] Logging artifact\n",
      "> 2022-09-28 12:53:47,832 [info] run executed, status=completed\n",
      "final state: completed\n"
     ]
    },
    {
     "data": {
      "text/plain": "<IPython.core.display.HTML object>",
      "text/html": "<style>\n.dictlist {\n  background-color: #4EC64B;\n  text-align: center;\n  margin: 4px;\n  border-radius: 3px; padding: 0px 3px 1px 3px; display: inline-block;}\n.artifact {\n  cursor: pointer;\n  background-color: #4EC64B;\n  text-align: left;\n  margin: 4px; border-radius: 3px; padding: 0px 3px 1px 3px; display: inline-block;\n}\ndiv.block.hidden {\n  display: none;\n}\n.clickable {\n  cursor: pointer;\n}\n.ellipsis {\n  display: inline-block;\n  max-width: 60px;\n  white-space: nowrap;\n  overflow: hidden;\n  text-overflow: ellipsis;\n}\n.master-wrapper {\n  display: flex;\n  flex-flow: row nowrap;\n  justify-content: flex-start;\n  align-items: stretch;\n}\n.master-tbl {\n  flex: 3\n}\n.master-wrapper > div {\n  margin: 4px;\n  padding: 10px;\n}\niframe.fileview {\n  border: 0 none;\n  height: 100%;\n  width: 100%;\n  white-space: pre-wrap;\n}\n.pane-header-title {\n  width: 80%;\n  font-weight: 500;\n}\n.pane-header {\n  line-height: 1;\n  background-color: #4EC64B;\n  padding: 3px;\n}\n.pane-header .close {\n  font-size: 20px;\n  font-weight: 700;\n  float: right;\n  margin-top: -5px;\n}\n.master-wrapper .right-pane {\n  border: 1px inset silver;\n  width: 40%;\n  min-height: 300px;\n  flex: 3\n  min-width: 500px;\n}\n.master-wrapper * {\n  box-sizing: border-box;\n}\n</style><script>\nfunction copyToClipboard(fld) {\n    if (document.queryCommandSupported && document.queryCommandSupported('copy')) {\n        var textarea = document.createElement('textarea');\n        textarea.textContent = fld.innerHTML;\n        textarea.style.position = 'fixed';\n        document.body.appendChild(textarea);\n        textarea.select();\n\n        try {\n            return document.execCommand('copy'); // Security exception may be thrown by some browsers.\n        } catch (ex) {\n\n        } finally {\n            document.body.removeChild(textarea);\n        }\n    }\n}\nfunction expandPanel(el) {\n  const panelName = \"#\" + el.getAttribute('paneName');\n  console.log(el.title);\n\n  document.querySelector(panelName + \"-title\").innerHTML = el.title\n  iframe = document.querySelector(panelName + \"-body\");\n\n  const tblcss = `<style> body { font-family: Arial, Helvetica, sans-serif;}\n    #csv { margin-bottom: 15px; }\n    #csv table { border-collapse: collapse;}\n    #csv table td { padding: 4px 8px; border: 1px solid silver;} </style>`;\n\n  function csvToHtmlTable(str) {\n    return '<div id=\"csv\"><table><tr><td>' +  str.replace(/[\\n\\r]+$/g, '').replace(/[\\n\\r]+/g, '</td></tr><tr><td>')\n      .replace(/,/g, '</td><td>') + '</td></tr></table></div>';\n  }\n\n  function reqListener () {\n    if (el.title.endsWith(\".csv\")) {\n      iframe.setAttribute(\"srcdoc\", tblcss + csvToHtmlTable(this.responseText));\n    } else {\n      iframe.setAttribute(\"srcdoc\", this.responseText);\n    }\n    console.log(this.responseText);\n  }\n\n  const oReq = new XMLHttpRequest();\n  oReq.addEventListener(\"load\", reqListener);\n  oReq.open(\"GET\", el.title);\n  oReq.send();\n\n\n  //iframe.src = el.title;\n  const resultPane = document.querySelector(panelName + \"-pane\");\n  if (resultPane.classList.contains(\"hidden\")) {\n    resultPane.classList.remove(\"hidden\");\n  }\n}\nfunction closePanel(el) {\n  const panelName = \"#\" + el.getAttribute('paneName')\n  const resultPane = document.querySelector(panelName + \"-pane\");\n  if (!resultPane.classList.contains(\"hidden\")) {\n    resultPane.classList.add(\"hidden\");\n  }\n}\n\n</script>\n<div class=\"master-wrapper\">\n  <div class=\"block master-tbl\"><div>\n<style scoped>\n    .dataframe tbody tr th:only-of-type {\n        vertical-align: middle;\n    }\n\n    .dataframe tbody tr th {\n        vertical-align: top;\n    }\n\n    .dataframe thead th {\n        text-align: right;\n    }\n</style>\n<table border=\"1\" class=\"dataframe\">\n  <thead>\n    <tr style=\"text-align: right;\">\n      <th>project</th>\n      <th>uid</th>\n      <th>iter</th>\n      <th>start</th>\n      <th>state</th>\n      <th>name</th>\n      <th>labels</th>\n      <th>inputs</th>\n      <th>parameters</th>\n      <th>results</th>\n      <th>artifacts</th>\n    </tr>\n  </thead>\n  <tbody>\n    <tr>\n      <td>function-aggregate-example-avia</td>\n      <td><div title=\"6d9b8d4b14a74517a0b3abc842452afb\"><a href=\"https://dashboard.default-tenant.app.app-lab-v3-5-1.iguazio-cd2.com/mlprojects/function-aggregate-example-avia/jobs/monitor/6d9b8d4b14a74517a0b3abc842452afb/overview\" target=\"_blank\" >...42452afb</a></div></td>\n      <td>0</td>\n      <td>Sep 28 12:53:47</td>\n      <td>completed</td>\n      <td>aggregate</td>\n      <td><div class=\"dictlist\">v3io_user=avia</div><div class=\"dictlist\">kind=job</div><div class=\"dictlist\">owner=avia</div><div class=\"dictlist\">mlrun/client_version=1.1.0</div><div class=\"dictlist\">host=aggregate-2fvm5</div></td>\n      <td><div title=\"https://s3.wasabisys.com/iguazio/data/function-marketplace-data/aggregate/train_room_occupancy.csv\">df_artifact</div></td>\n      <td><div class=\"dictlist\">metrics=['Temperature', 'Humidity']</div><div class=\"dictlist\">labels=['Occupancy']</div><div class=\"dictlist\">metric_aggs=['mean', 'std']</div><div class=\"dictlist\">label_aggs=['sum']</div><div class=\"dictlist\">window=5</div><div class=\"dictlist\">center=True</div></td>\n      <td></td>\n      <td><div title=\"v3io:///projects/function-aggregate-example-avia/artifacts/aggregate/0/aggregate.pq\">aggregate</div></td>\n    </tr>\n  </tbody>\n</table>\n</div></div>\n  <div id=\"result6f3f13b5-pane\" class=\"right-pane block hidden\">\n    <div class=\"pane-header\">\n      <span id=\"result6f3f13b5-title\" class=\"pane-header-title\">Title</span>\n      <span onclick=\"closePanel(this)\" paneName=\"result6f3f13b5\" class=\"close clickable\">&times;</span>\n    </div>\n    <iframe class=\"fileview\" id=\"result6f3f13b5-body\"></iframe>\n  </div>\n</div>\n"
     },
     "metadata": {},
     "output_type": "display_data"
    },
    {
     "name": "stdout",
     "output_type": "stream",
     "text": [
      "\n"
     ]
    },
    {
     "data": {
      "text/plain": "<IPython.core.display.HTML object>",
      "text/html": "<b> > to track results use the .show() or .logs() methods  or <a href=\"https://dashboard.default-tenant.app.app-lab-v3-5-1.iguazio-cd2.com/mlprojects/function-aggregate-example-avia/jobs/monitor/6d9b8d4b14a74517a0b3abc842452afb/overview\" target=\"_blank\">click here</a> to open in UI</b>"
     },
     "metadata": {},
     "output_type": "display_data"
    },
    {
     "name": "stdout",
     "output_type": "stream",
     "text": [
      "> 2022-09-28 15:53:49,102 [info] run executed, status=completed\n"
     ]
    }
   ],
   "source": [
    "aggregate_run_remote = fn.run(name='aggregate',\n",
    "                       params = {'metrics': ['Temperature','Humidity'],\n",
    "                                 'labels': ['Occupancy'],\n",
    "                                 'metric_aggs': ['mean','std'],\n",
    "                                 'label_aggs': ['sum'],\n",
    "                                 'window': 5,\n",
    "                                 'center': True},\n",
    "                       inputs={'df_artifact': data_path},\n",
    "                       local=False)"
   ]
  },
  {
   "cell_type": "code",
   "metadata": {
    "pycharm": {
     "name": "#%%\n"
    }
   },
   "source": [
    "aggregate_run_remote.artifact('aggregate').as_df().head()"
   ],
   "execution_count": 9,
   "outputs": [
    {
     "data": {
      "text/plain": "                  date  Temperature  Humidity  Light         CO2  \\\n2  2015-02-04 17:53:00        23.15    27.245  426.0  713.500000   \n3  2015-02-04 17:54:00        23.15    27.200  426.0  708.250000   \n4  2015-02-04 17:55:00        23.10    27.200  426.0  704.500000   \n5  2015-02-04 17:55:59        23.10    27.200  419.0  701.000000   \n6  2015-02-04 17:57:00        23.10    27.200  419.0  701.666667   \n\n   HumidityRatio  Occupancy  Temperature_mean  Humidity_mean  Occupancy_max  \n2       0.004779          1            23.146        27.2369            1.0  \n3       0.004772          1            23.130        27.2225            1.0  \n4       0.004757          1            23.120        27.2090            1.0  \n5       0.004757          1            23.110        27.2000            1.0  \n6       0.004757          1            23.100        27.2000            1.0  ",
      "text/html": "<div>\n<style scoped>\n    .dataframe tbody tr th:only-of-type {\n        vertical-align: middle;\n    }\n\n    .dataframe tbody tr th {\n        vertical-align: top;\n    }\n\n    .dataframe thead th {\n        text-align: right;\n    }\n</style>\n<table border=\"1\" class=\"dataframe\">\n  <thead>\n    <tr style=\"text-align: right;\">\n      <th></th>\n      <th>date</th>\n      <th>Temperature</th>\n      <th>Humidity</th>\n      <th>Light</th>\n      <th>CO2</th>\n      <th>HumidityRatio</th>\n      <th>Occupancy</th>\n      <th>Temperature_mean</th>\n      <th>Humidity_mean</th>\n      <th>Occupancy_max</th>\n    </tr>\n  </thead>\n  <tbody>\n    <tr>\n      <th>2</th>\n      <td>2015-02-04 17:53:00</td>\n      <td>23.15</td>\n      <td>27.245</td>\n      <td>426.0</td>\n      <td>713.500000</td>\n      <td>0.004779</td>\n      <td>1</td>\n      <td>23.146</td>\n      <td>27.2369</td>\n      <td>1.0</td>\n    </tr>\n    <tr>\n      <th>3</th>\n      <td>2015-02-04 17:54:00</td>\n      <td>23.15</td>\n      <td>27.200</td>\n      <td>426.0</td>\n      <td>708.250000</td>\n      <td>0.004772</td>\n      <td>1</td>\n      <td>23.130</td>\n      <td>27.2225</td>\n      <td>1.0</td>\n    </tr>\n    <tr>\n      <th>4</th>\n      <td>2015-02-04 17:55:00</td>\n      <td>23.10</td>\n      <td>27.200</td>\n      <td>426.0</td>\n      <td>704.500000</td>\n      <td>0.004757</td>\n      <td>1</td>\n      <td>23.120</td>\n      <td>27.2090</td>\n      <td>1.0</td>\n    </tr>\n    <tr>\n      <th>5</th>\n      <td>2015-02-04 17:55:59</td>\n      <td>23.10</td>\n      <td>27.200</td>\n      <td>419.0</td>\n      <td>701.000000</td>\n      <td>0.004757</td>\n      <td>1</td>\n      <td>23.110</td>\n      <td>27.2000</td>\n      <td>1.0</td>\n    </tr>\n    <tr>\n      <th>6</th>\n      <td>2015-02-04 17:57:00</td>\n      <td>23.10</td>\n      <td>27.200</td>\n      <td>419.0</td>\n      <td>701.666667</td>\n      <td>0.004757</td>\n      <td>1</td>\n      <td>23.100</td>\n      <td>27.2000</td>\n      <td>1.0</td>\n    </tr>\n  </tbody>\n</table>\n</div>"
     },
     "execution_count": 9,
     "metadata": {},
     "output_type": "execute_result"
    }
   ]
  },
  {
   "cell_type": "markdown",
   "source": [
    "[Back to the top](#Aggregate-time-series-dataframe)"
   ],
   "metadata": {
    "collapsed": false
   }
  }
 ],
 "metadata": {
  "kernelspec": {
   "display_name": "Python 3",
   "language": "python",
   "name": "python3"
  },
  "language_info": {
   "codemirror_mode": {
    "name": "ipython",
    "version": 3
   },
   "file_extension": ".py",
   "mimetype": "text/x-python",
   "name": "python",
   "nbconvert_exporter": "python",
   "pygments_lexer": "ipython3",
   "version": "3.7.6"
  }
 },
 "nbformat": 4,
 "nbformat_minor": 4
}